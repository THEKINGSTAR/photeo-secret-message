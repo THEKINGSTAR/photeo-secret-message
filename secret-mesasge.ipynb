{
 "metadata": {
  "language_info": {
   "codemirror_mode": {
    "name": "ipython",
    "version": 3
   },
   "file_extension": ".py",
   "mimetype": "text/x-python",
   "name": "python",
   "nbconvert_exporter": "python",
   "pygments_lexer": "ipython3",
   "version": "3.9.5"
  },
  "orig_nbformat": 2,
  "kernelspec": {
   "name": "python395jvsc74a57bd0ce1e901da04acbe50dd99cd0d91cb411cb2166c3507dec81ce620981a8df4741",
   "display_name": "Python 3.9.5 64-bit"
  },
  "metadata": {
   "interpreter": {
    "hash": "ce1e901da04acbe50dd99cd0d91cb411cb2166c3507dec81ce620981a8df4741"
   }
  }
 },
 "nbformat": 4,
 "nbformat_minor": 2,
 "cells": [
  {
   "cell_type": "code",
   "execution_count": 9,
   "metadata": {},
   "outputs": [
    {
     "output_type": "stream",
     "name": "stdout",
     "text": [
      "Check folder MESSAGE FOR THE : hi! IN PICTURES\n"
     ]
    }
   ],
   "source": [
    "##Directory and File copy example - From Tim Golden's Python Stuff:\n",
    "##http://timgolden.me.uk/python/win32_how_do_i/copy-a-file.html\n",
    "\n",
    "import os\n",
    "import shutil\n",
    "import tempfile\n",
    "import glob\n",
    "from shutil import copyfile\n",
    "\n",
    "#---------------------------------------------------------------\n",
    "\n",
    "# print(\"Path at terminal when executing this file\")\n",
    "# print(os.getcwd() + \"\\n\")\n",
    "\"\"\" \n",
    "cd  = os.getcwd()\n",
    "old = cd+\"\\Alphabet\"\n",
    "new = cd+\"\\MESSAGE\"\n",
    "shutil.copy(old, new) \n",
    "\"\"\"\n",
    "\n",
    "alphabet_string   = \"A,B,C,D,E,F,G,H,I,J,K,L,M,N,O,P,Q,R,S,T,U,V,W,X,Y,Z,., \" \n",
    "# alphabet_string = \"A ,B ,C ,D ,E ,F ,G ,H ,I ,J  ,K  ,L  ,M  ,N  ,O  ,P  ,Q  ,R  ,S  ,T  ,U  ,V  ,W  ,X  ,Y  ,Z  ,.  , \"\n",
    "alphabet_numrec   = [1 ,2 ,3 ,4 ,5 ,6 ,7 ,8 ,9 ,10 ,11 ,12 ,13 ,14 ,15 ,16 ,17 ,18 ,19 ,20 ,21 ,22 ,23 ,24 ,25 ,26 ,27 ,28 ]\n",
    "\n",
    "alphabet = alphabet_string.split(',')\n",
    "\n",
    "#print(type(alphabet))\n",
    "#print (os.getcwd())\n",
    "\n",
    "workdir = os.getcwd()\n",
    "file_list = os.listdir(r\"{}\\Alphabet\".format(workdir))\n",
    "\n",
    "#print (file_list)\n",
    "\n",
    "\n",
    "###################################################################################\n",
    "###################################################################################\n",
    "def mesage_creating(message):\n",
    "    # seperating the message letters\n",
    "    message = message.upper()\n",
    "    message.split()\n",
    "    #print(message)\n",
    "    workdir = os.getcwd()\n",
    "    \n",
    "    ## EMPTYING THE MESSAGE FOLDER FRIST\n",
    "\n",
    "    files = glob.glob(\"{}\\MESSAGE\\\\**\\*.jpg\".format(workdir), recursive=True)\n",
    "    for f in files:\n",
    "        try:\n",
    "            os.remove(f)\n",
    "        except OSError as e:\n",
    "            print(\"Error: %s : %s\" % (f, e.strerror))\n",
    "\n",
    "\n",
    "    file_list = os.listdir(r\"{}\\Alphabet\".format(workdir))\n",
    "\n",
    "    arrange = 0\n",
    "    for litter in message:\n",
    "        \"\"\" \n",
    "        creat list with the letter and space and dot of the message\n",
    "        read the files in the message folder\n",
    "        if not exist copy the file from the alphapet to the message folder\n",
    "        if exist rename whith the last number existi\n",
    "        if letter is space copy space\n",
    "        if letter is dot copy dot\n",
    "         \"\"\"\n",
    "        index = alphabet.index(litter)+1\n",
    "        #print(index)\n",
    "        original = \"{}\\Alphabet\\{}\".format(workdir,index)+\".jpg\"\n",
    "        #new_name =\n",
    "        target   = \"{}\\MESSAGE\\\\\".format(workdir) + \"0{}\".format(arrange)+\".jpg\"\n",
    "        shutil.copyfile(original, target)\n",
    "        arrange +=1\n",
    "         \n",
    "###################################################################################\n",
    "###################################################################################\n",
    "\n",
    "def user_input():\n",
    "    message = input(\"Right the message you want !!! \")\n",
    "    print(\"Check folder MESSAGE FOR THE : \" + message + \"!\" +' '+\"IN PICTURES\")\n",
    "    #creat_message(message)\n",
    "    mesage_creating(message)\n",
    "#---------------------------------------------------------------\n",
    "###################################################################################\n",
    "###################################################################################\n",
    "user_input()\n"
   ]
  },
  {
   "cell_type": "code",
   "execution_count": 51,
   "metadata": {},
   "outputs": [
    {
     "output_type": "stream",
     "name": "stdout",
     "text": [
      "c:\\Users\\KING\\git\\udacity-full-stack-web\\Part 01-Module 02-Lesson 02_Use functions\\new-secret\n"
     ]
    }
   ],
   "source": [
    "import os\n",
    "import shutil\n",
    "\n",
    "\n",
    "\n",
    "## copying files\n",
    "#  original = r'C:\\Users\\Ron\\Desktop\\Test_1\\products.csv'\n",
    "#  target = r'C:\\Users\\Ron\\Desktop\\Test_2\\products.csv'\n",
    "\n",
    "def copy_files():\n",
    " print (os.getcwd())\n",
    " workdir = os.getcwd()\n",
    "\n",
    " file_list = os.listdir(r\"{}\\Alphabet\".format(workdir))\n",
    "    #file_list.sort()\n",
    "    #print (file_list)\n",
    "\n",
    " for f in file_list:\n",
    "        #print(f)\n",
    "        original = \"{}\\Alphabet\\{}\".format(workdir,f)\n",
    "        #new_name =\n",
    "        target   = \"{}\\MESSAGE\\\\\".format(workdir) + \"0{}\".format(f)\n",
    "        shutil.copyfile(original, target)\n",
    " \n",
    "\n",
    "\n",
    "copy_files()\n",
    "\n"
   ]
  },
  {
   "cell_type": "code",
   "execution_count": 60,
   "metadata": {},
   "outputs": [
    {
     "output_type": "stream",
     "name": "stdout",
     "text": [
      "['A', 'B', 'C', 'D', 'E', 'F', 'G', 'H', 'I', 'J', 'K', 'L', 'M', 'N', 'O', 'P', 'Q', 'R', 'S', 'T', 'U', 'V', 'W', 'X', 'Y', 'Z', '.', ' ']\n11\n"
     ]
    }
   ],
   "source": [
    "alphabet_string = \"A,B,C,D,E,F,G,H,I,J,K,L,M,N,O,P,Q,R,S,T,U,V,W,X,Y,Z,., \" \n",
    "alphabet_numrec = [1 ,2 ,3 ,4 ,5 ,6 ,7 ,8 ,9 ,10 ,11 ,12 ,13 ,14 ,15 ,16 ,17 ,18 ,19 ,20 ,21 ,22 ,23 ,24 ,25 ,26 ,27  ,28 ]\n",
    "\n",
    "alphabet = alphabet_string.split(',')\n",
    "print(alphabet)\n",
    "l = alphabet.index(\"K\")+1\n",
    "print(l)"
   ]
  },
  {
   "cell_type": "code",
   "execution_count": null,
   "metadata": {},
   "outputs": [],
   "source": []
  }
 ]
}